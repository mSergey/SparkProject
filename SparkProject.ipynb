{
 "cells": [
  {
   "cell_type": "markdown",
   "id": "eb893b08-b0c1-4926-8116-391ce7614e84",
   "metadata": {},
   "source": [
    "# Проект: Предсказание стоимости жилья"
   ]
  },
  {
   "cell_type": "markdown",
   "id": "486a8515-8df3-42c2-b755-ad8d5c9bd383",
   "metadata": {},
   "source": [
    "## Цели работы:\n",
    "\n",
    "- Обучить модель линейной регрессии на данных о жилье в Калифорнии в 1990 году для предсказания медианной стоимости дома в жилом массиве.\n",
    "- Оценить качество модели по метрикам RMSE, MAE и R2.\n",
    "- При работе использховать фреймворк Apache Spark."
   ]
  },
  {
   "cell_type": "markdown",
   "id": "c7c6f23d-abe4-4f81-83e9-b3b14312e2f5",
   "metadata": {},
   "source": [
    "## Краткий план работы\n",
    "\n",
    "| **№ п/п** | **Задача** | **Срок выполнения** |\n",
    "| :---: | :--- | :---: |\n",
    "|1.|Инициализировать локальную Spark-сессию. Загрузить данные. Ознакомиться с ними.|16.08.2024|\n",
    "|2.|Выполните предобработку данных. Обработать пропуски.|17.08.2024|\n",
    "|3.|Провести подготовку данных. Отобрать и сконструировать признаки. Оценить корелляцию признаков.|18.09.2024|\n",
    "|4.|Построить две модели линейной регрессии на разных наборах данных: используя все данные из файла и используя только числовые переменные, исключив категориальные.|19.09.2024|\n",
    "|5.|Сравнить результаты работы линейной регрессии на двух наборах данных по метрикам RMSE, MAE и R2.|22.09.2024|\n",
    "|6.|Обучить RandomForestRegressor с перебором гиперпараметров и сравнить результаты с двумя предыдущими моделями|22.09.2024|\n",
    "|7.|Сформулировать выводы.|23.09.2024|"
   ]
  },
  {
   "cell_type": "markdown",
   "id": "80b62756-1001-4bdf-8c39-fdc6cd300f69",
   "metadata": {},
   "source": [
    "## Исходные данные\n",
    "\n",
    "Набор данных:\n",
    "- __housing.csv__ - информация о 20640 жилых массивах в Калифорнии за 1990 год.\n",
    "\n",
    "| **№ п/п** | **Наименование признака** | **Описание** |\n",
    "| :---: | :--- | :--- |\n",
    "|1.|__longitude__|Широта|\n",
    "|2.|__latitude__|Долгота|\n",
    "|3.|__housing_median_age__|Медианный возраст жителей жилого массива|\n",
    "|4.|__total_rooms__|Общее количество комнат в домах жилого массива|\n",
    "|5.|__total_bedrooms__|Общее количество спален в домах жилого массива|\n",
    "|6.|__population__|Количество человек, которые проживают в жилом массиве|\n",
    "|7.|__households__|Количество домовладений в жилом массиве|\n",
    "|8.|__median_income__|Медианный доход жителей жилого массива|\n",
    "|8.|__median_house_value__|__Целевая переменная__. Медианная стоимость дома в жилом массиве|\n",
    "|9.|__ocean_proximity__|Близость к океану|"
   ]
  },
  {
   "cell_type": "markdown",
   "id": "7f916b29-37d1-4bd6-8fe5-0f3ddbd36bf2",
   "metadata": {},
   "source": [
    "# Ход работы"
   ]
  },
  {
   "cell_type": "markdown",
   "id": "42547a5a-15a2-4b22-9aee-25ec6baaede0",
   "metadata": {},
   "source": [
    "## Импорт необходимых библиотек. Инициализация Spark-сесии. Загрузка данных. Ознакомление с данными."
   ]
  },
  {
   "cell_type": "code",
   "execution_count": 1,
   "id": "1caee98a-cbed-4099-96b3-863948b7b250",
   "metadata": {},
   "outputs": [],
   "source": [
    "# импортируем модуль для работы с операционной системой\n",
    "import os\n",
    "\n",
    "# импортируем модуль для загрузки файлов из сети\n",
    "import requests\n",
    "\n",
    "# импортируем библиотеку numpy для работы с массивами и числовыми данными\n",
    "import numpy as np\n",
    "\n",
    "# импортируем библиотеку pandas для работы с табличными данными\n",
    "import pandas as pd\n",
    "\n",
    "# импортируем seaborn для создания статистических графиков\n",
    "import seaborn as sns\n",
    "\n",
    "# импортируем matplotlib для построения графиков\n",
    "import matplotlib.pyplot as plt\n",
    "\n",
    "# импортируем SparkSession для создания сессии Spark\n",
    "from pyspark.sql import SparkSession\n",
    "\n",
    "# импортируем модуль для работы с функциями Spark, включая агрегатные и математические функции\n",
    "import pyspark.sql.functions as F\n",
    "\n",
    "# импортируем класс Pipeline для создания конвейера трансформаций и модели\n",
    "from pyspark.ml import Pipeline\n",
    "\n",
    "# импортируем OneHotEncoder для кодирования категориальных переменных в формат \"one-hot\"\n",
    "from pyspark.ml.feature import OneHotEncoder\n",
    "\n",
    "# импортируем StringIndexer для кодирования строковых категорий в числовой формат\n",
    "from pyspark.ml.feature import StringIndexer\n",
    "\n",
    "# импортируем VectorAssembler для объединения нескольких столбцов в один векторный столбец\n",
    "from pyspark.ml.feature import VectorAssembler\n",
    "\n",
    "# импортируем StandardScaler для стандартизации признаков (нормализации)\n",
    "from pyspark.ml.feature import StandardScaler\n",
    "\n",
    "# импортируем RandomForestRegressor и LinearRegression для создания и обучения моделей регрессии\n",
    "from pyspark.ml.regression import LinearRegression\n",
    "from pyspark.ml.regression import RandomForestRegressor\n",
    "\n",
    "# импортируем RegressionEvaluator для оценки модели регрессии (например, по RMSE, MAE, R²)\n",
    "from pyspark.ml.evaluation import RegressionEvaluator\n",
    "\n",
    "# импортируем ParamGridBuilder для пеербора гиперпараметров\n",
    "from pyspark.ml.tuning import ParamGridBuilder\n",
    "\n",
    "# импортируем инструмент для кросс-валидации\n",
    "from pyspark.ml.tuning import CrossValidator\n",
    "\n",
    "# импортируем Correlation для вычисления корреляции между признаками\n",
    "from pyspark.ml.stat import Correlation\n",
    "\n",
    "# инициализируем констнату для разделения выборки на train и test\n",
    "RANDOM_SEED = 42"
   ]
  },
  {
   "cell_type": "code",
   "execution_count": 2,
   "id": "44d13769-861b-4ba3-bc08-19e452b82a29",
   "metadata": {},
   "outputs": [],
   "source": [
    "# настраиваем окружение для локальной работы Spark\n",
    "os.environ['SPARK_HOME'] = '/opt/anaconda3/envs/spark_project/lib/python3.9/site-packages/pyspark'\n",
    "os.environ['PYSPARK_PYTHON'] = '/opt/anaconda3/envs/spark_project/bin/python'\n",
    "os.environ['PATH'] += os.pathsep + os.path.join(os.environ['SPARK_HOME'], 'bin')"
   ]
  },
  {
   "cell_type": "code",
   "execution_count": 3,
   "id": "e00b712c-ef7f-4e6b-a3d6-16d108c13936",
   "metadata": {},
   "outputs": [
    {
     "name": "stderr",
     "output_type": "stream",
     "text": [
      "24/09/27 18:59:21 WARN Utils: Your hostname, Sergeys-MacBook-Pro.local resolves to a loopback address: 127.0.0.1; using 192.168.8.101 instead (on interface en0)\n",
      "24/09/27 18:59:21 WARN Utils: Set SPARK_LOCAL_IP if you need to bind to another address\n",
      "Setting default log level to \"WARN\".\n",
      "To adjust logging level use sc.setLogLevel(newLevel). For SparkR, use setLogLevel(newLevel).\n",
      "24/09/27 18:59:21 WARN NativeCodeLoader: Unable to load native-hadoop library for your platform... using builtin-java classes where applicable\n"
     ]
    }
   ],
   "source": [
    "# инициализируем Spark-сессию\n",
    "spark = SparkSession \\\n",
    "    .builder \\\n",
    "    .master(\"local[*]\") \\\n",
    "    .appName(\"Housing Value Prediction Spark Project\") \\\n",
    "    .getOrCreate()"
   ]
  },
  {
   "cell_type": "code",
   "execution_count": 4,
   "id": "47447d9b-ca1d-4ba3-999c-a65565c49f84",
   "metadata": {},
   "outputs": [],
   "source": [
    "# убираем лишнее логгирование\n",
    "spark.sparkContext.setLogLevel(\"ERROR\")"
   ]
  },
  {
   "cell_type": "code",
   "execution_count": 5,
   "id": "86a3b52e-5cbb-42c2-b04e-617f3248e444",
   "metadata": {},
   "outputs": [],
   "source": [
    "# определение функции для инициализаци датасета\n",
    "# функция принимает в качестве аргументов локальный путь, сетевой путь и разделитель для датасета\n",
    "def fetch_data(local_path, url, sep=','):\n",
    "    # проверяет существует ли локальный файл csv\n",
    "    # если нет, загружает файл из сети с выводом соответствующего уведомления\n",
    "    if not os.path.exists(local_path):\n",
    "        print('Local file', local_path, 'does not exist.\\nDownloading from', url)\n",
    "        # сохраняем файл в соответствующей директории\n",
    "        response = requests.get(url)\n",
    "        with open(local_path, 'wb') as file:\n",
    "            file.write(response.content)\n",
    "    # функция возвращает объект <DataFrame> (Spark)\n",
    "    return spark.read.load(\n",
    "        local_path, format=\"csv\", sep=sep, inferSchema=True, header=\"true\"\n",
    "    )"
   ]
  },
  {
   "cell_type": "code",
   "execution_count": 6,
   "id": "ff3506e6-668a-4a40-85f3-3567243f5c08",
   "metadata": {},
   "outputs": [],
   "source": [
    "# инициализация локального и удаленного путей к файлу с данными\n",
    "local_path = '/Users/sergey/Documents/Practicum/DS/3 module/housing.csv'\n",
    "url = 'https://code.s3.yandex.net/datasets/housing.csv'"
   ]
  },
  {
   "cell_type": "code",
   "execution_count": 7,
   "id": "4b91bdd1-b66e-4c54-bf0a-881ac1c30608",
   "metadata": {},
   "outputs": [
    {
     "name": "stdout",
     "output_type": "stream",
     "text": [
      "Local file /Users/sergey/Documents/Practicum/DS/3 module/housing.csv does not exist.\n",
      "Downloading from https://code.s3.yandex.net/datasets/housing.csv\n"
     ]
    }
   ],
   "source": [
    "# инициализируем датасет\n",
    "df_housing = fetch_data(local_path=local_path, url=url)"
   ]
  },
  {
   "cell_type": "markdown",
   "id": "092fca7c-2bc2-4565-8409-bb67af18f5f7",
   "metadata": {},
   "source": [
    "Выводим общую информацию о данных."
   ]
  },
  {
   "cell_type": "code",
   "execution_count": 8,
   "id": "3d50acff-7330-42c0-98ba-761acd84713c",
   "metadata": {},
   "outputs": [
    {
     "name": "stdout",
     "output_type": "stream",
     "text": [
      "root\n",
      " |-- longitude: double (nullable = true)\n",
      " |-- latitude: double (nullable = true)\n",
      " |-- housing_median_age: double (nullable = true)\n",
      " |-- total_rooms: double (nullable = true)\n",
      " |-- total_bedrooms: double (nullable = true)\n",
      " |-- population: double (nullable = true)\n",
      " |-- households: double (nullable = true)\n",
      " |-- median_income: double (nullable = true)\n",
      " |-- median_house_value: double (nullable = true)\n",
      " |-- ocean_proximity: string (nullable = true)\n",
      "\n"
     ]
    }
   ],
   "source": [
    "df_housing.printSchema() "
   ]
  },
  {
   "cell_type": "code",
   "execution_count": 9,
   "id": "ee85b5ed-37c2-4ece-a107-130f77b396c6",
   "metadata": {},
   "outputs": [
    {
     "name": "stdout",
     "output_type": "stream",
     "text": [
      "+---------+--------+------------------+-----------+--------------+----------+----------+-------------+------------------+---------------+\n",
      "|longitude|latitude|housing_median_age|total_rooms|total_bedrooms|population|households|median_income|median_house_value|ocean_proximity|\n",
      "+---------+--------+------------------+-----------+--------------+----------+----------+-------------+------------------+---------------+\n",
      "|  -122.23|   37.88|              41.0|      880.0|         129.0|     322.0|     126.0|       8.3252|          452600.0|       NEAR BAY|\n",
      "|  -122.22|   37.86|              21.0|     7099.0|        1106.0|    2401.0|    1138.0|       8.3014|          358500.0|       NEAR BAY|\n",
      "|  -122.24|   37.85|              52.0|     1467.0|         190.0|     496.0|     177.0|       7.2574|          352100.0|       NEAR BAY|\n",
      "+---------+--------+------------------+-----------+--------------+----------+----------+-------------+------------------+---------------+\n",
      "only showing top 3 rows\n",
      "\n"
     ]
    }
   ],
   "source": [
    "df_housing.show(3)"
   ]
  },
  {
   "cell_type": "markdown",
   "id": "9d6d9c7e-bddb-4e4c-b7d7-f8a37a86ca37",
   "metadata": {},
   "source": [
    "Смотрим описательные статистики."
   ]
  },
  {
   "cell_type": "code",
   "execution_count": 10,
   "id": "89974b4f-de9e-4af1-a627-c2a3c4cd3888",
   "metadata": {},
   "outputs": [
    {
     "data": {
      "text/html": [
       "<div>\n",
       "<style scoped>\n",
       "    .dataframe tbody tr th:only-of-type {\n",
       "        vertical-align: middle;\n",
       "    }\n",
       "\n",
       "    .dataframe tbody tr th {\n",
       "        vertical-align: top;\n",
       "    }\n",
       "\n",
       "    .dataframe thead th {\n",
       "        text-align: right;\n",
       "    }\n",
       "</style>\n",
       "<table border=\"1\" class=\"dataframe\">\n",
       "  <thead>\n",
       "    <tr style=\"text-align: right;\">\n",
       "      <th></th>\n",
       "      <th>0</th>\n",
       "      <th>1</th>\n",
       "      <th>2</th>\n",
       "      <th>3</th>\n",
       "      <th>4</th>\n",
       "    </tr>\n",
       "  </thead>\n",
       "  <tbody>\n",
       "    <tr>\n",
       "      <th>summary</th>\n",
       "      <td>count</td>\n",
       "      <td>mean</td>\n",
       "      <td>stddev</td>\n",
       "      <td>min</td>\n",
       "      <td>max</td>\n",
       "    </tr>\n",
       "    <tr>\n",
       "      <th>longitude</th>\n",
       "      <td>20640</td>\n",
       "      <td>-119.56970445736148</td>\n",
       "      <td>2.003531723502584</td>\n",
       "      <td>-124.35</td>\n",
       "      <td>-114.31</td>\n",
       "    </tr>\n",
       "    <tr>\n",
       "      <th>latitude</th>\n",
       "      <td>20640</td>\n",
       "      <td>35.6318614341087</td>\n",
       "      <td>2.135952397457101</td>\n",
       "      <td>32.54</td>\n",
       "      <td>41.95</td>\n",
       "    </tr>\n",
       "    <tr>\n",
       "      <th>housing_median_age</th>\n",
       "      <td>20640</td>\n",
       "      <td>28.639486434108527</td>\n",
       "      <td>12.58555761211163</td>\n",
       "      <td>1.0</td>\n",
       "      <td>52.0</td>\n",
       "    </tr>\n",
       "    <tr>\n",
       "      <th>total_rooms</th>\n",
       "      <td>20640</td>\n",
       "      <td>2635.7630813953488</td>\n",
       "      <td>2181.6152515827944</td>\n",
       "      <td>2.0</td>\n",
       "      <td>39320.0</td>\n",
       "    </tr>\n",
       "    <tr>\n",
       "      <th>total_bedrooms</th>\n",
       "      <td>20433</td>\n",
       "      <td>537.8705525375618</td>\n",
       "      <td>421.38507007403115</td>\n",
       "      <td>1.0</td>\n",
       "      <td>6445.0</td>\n",
       "    </tr>\n",
       "    <tr>\n",
       "      <th>population</th>\n",
       "      <td>20640</td>\n",
       "      <td>1425.4767441860465</td>\n",
       "      <td>1132.46212176534</td>\n",
       "      <td>3.0</td>\n",
       "      <td>35682.0</td>\n",
       "    </tr>\n",
       "    <tr>\n",
       "      <th>households</th>\n",
       "      <td>20640</td>\n",
       "      <td>499.5396802325581</td>\n",
       "      <td>382.3297528316098</td>\n",
       "      <td>1.0</td>\n",
       "      <td>6082.0</td>\n",
       "    </tr>\n",
       "    <tr>\n",
       "      <th>median_income</th>\n",
       "      <td>20640</td>\n",
       "      <td>3.8706710029070246</td>\n",
       "      <td>1.899821717945263</td>\n",
       "      <td>0.4999</td>\n",
       "      <td>15.0001</td>\n",
       "    </tr>\n",
       "    <tr>\n",
       "      <th>median_house_value</th>\n",
       "      <td>20640</td>\n",
       "      <td>206855.81690891474</td>\n",
       "      <td>115395.61587441359</td>\n",
       "      <td>14999.0</td>\n",
       "      <td>500001.0</td>\n",
       "    </tr>\n",
       "    <tr>\n",
       "      <th>ocean_proximity</th>\n",
       "      <td>20640</td>\n",
       "      <td>None</td>\n",
       "      <td>None</td>\n",
       "      <td>&lt;1H OCEAN</td>\n",
       "      <td>NEAR OCEAN</td>\n",
       "    </tr>\n",
       "  </tbody>\n",
       "</table>\n",
       "</div>"
      ],
      "text/plain": [
       "                        0                    1                   2          3  \\\n",
       "summary             count                 mean              stddev        min   \n",
       "longitude           20640  -119.56970445736148   2.003531723502584    -124.35   \n",
       "latitude            20640     35.6318614341087   2.135952397457101      32.54   \n",
       "housing_median_age  20640   28.639486434108527   12.58555761211163        1.0   \n",
       "total_rooms         20640   2635.7630813953488  2181.6152515827944        2.0   \n",
       "total_bedrooms      20433    537.8705525375618  421.38507007403115        1.0   \n",
       "population          20640   1425.4767441860465    1132.46212176534        3.0   \n",
       "households          20640    499.5396802325581   382.3297528316098        1.0   \n",
       "median_income       20640   3.8706710029070246   1.899821717945263     0.4999   \n",
       "median_house_value  20640   206855.81690891474  115395.61587441359    14999.0   \n",
       "ocean_proximity     20640                 None                None  <1H OCEAN   \n",
       "\n",
       "                             4  \n",
       "summary                    max  \n",
       "longitude              -114.31  \n",
       "latitude                 41.95  \n",
       "housing_median_age        52.0  \n",
       "total_rooms            39320.0  \n",
       "total_bedrooms          6445.0  \n",
       "population             35682.0  \n",
       "households              6082.0  \n",
       "median_income          15.0001  \n",
       "median_house_value    500001.0  \n",
       "ocean_proximity     NEAR OCEAN  "
      ]
     },
     "execution_count": 10,
     "metadata": {},
     "output_type": "execute_result"
    }
   ],
   "source": [
    "df_housing.describe().toPandas().T"
   ]
  },
  {
   "cell_type": "markdown",
   "id": "6d619934-0b6d-4fb5-9bdc-9c9764d64703",
   "metadata": {},
   "source": [
    "### Промежуточные выводы по ознакомлению с данными\n",
    "\n",
    "- Данные соответствуют описанию.\n",
    "- Нейминг столбцов соостветствует принятым соглашениям.\n",
    "- В данных есть пропуски. Для определения стратегии работы с пропусками необходимо провести дополнительный анализ."
   ]
  },
  {
   "cell_type": "markdown",
   "id": "8b09840d-36d6-450b-ac5c-154cdcf45e6c",
   "metadata": {},
   "source": [
    "Добавляем несколько новых признаков."
   ]
  },
  {
   "cell_type": "code",
   "execution_count": 11,
   "id": "1205b454-e49a-4cd9-913a-f631d4bb6726",
   "metadata": {},
   "outputs": [
    {
     "name": "stdout",
     "output_type": "stream",
     "text": [
      "root\n",
      " |-- longitude: double (nullable = true)\n",
      " |-- latitude: double (nullable = true)\n",
      " |-- housing_median_age: double (nullable = true)\n",
      " |-- total_rooms: double (nullable = true)\n",
      " |-- total_bedrooms: double (nullable = true)\n",
      " |-- population: double (nullable = true)\n",
      " |-- households: double (nullable = true)\n",
      " |-- median_income: double (nullable = true)\n",
      " |-- median_house_value: double (nullable = true)\n",
      " |-- ocean_proximity: string (nullable = true)\n",
      " |-- rooms_per_household: double (nullable = true)\n",
      " |-- population_in_household: double (nullable = true)\n",
      " |-- bedroom_rate: double (nullable = true)\n",
      "\n"
     ]
    }
   ],
   "source": [
    "df_housing = df_housing\\\n",
    "    .withColumn('rooms_per_household', df_housing['total_rooms'] / df_housing['households'])\\\n",
    "    .withColumn('population_in_household', df_housing['population'] / df_housing['households'])\\\n",
    "    .withColumn('bedroom_rate', df_housing['total_bedrooms'] / df_housing['total_rooms'])\n",
    "df_housing.printSchema()"
   ]
  },
  {
   "cell_type": "markdown",
   "id": "dc9d1718-5745-4a3e-8a11-726f85735485",
   "metadata": {},
   "source": [
    "## Предобработка данных"
   ]
  },
  {
   "cell_type": "markdown",
   "id": "b2415abb-0bdc-41de-8f15-bf3358be1412",
   "metadata": {},
   "source": [
    "Смотрим на наличие пропусков."
   ]
  },
  {
   "cell_type": "code",
   "execution_count": 12,
   "id": "630161b5-cce6-46b8-bc49-f20b7d589c3b",
   "metadata": {},
   "outputs": [
    {
     "name": "stdout",
     "output_type": "stream",
     "text": [
      "longitude 0\n",
      "latitude 0\n",
      "housing_median_age 0\n",
      "total_rooms 0\n",
      "total_bedrooms 207\n",
      "population 0\n",
      "households 0\n",
      "median_income 0\n",
      "median_house_value 0\n",
      "ocean_proximity 0\n",
      "rooms_per_household 0\n",
      "population_in_household 0\n",
      "bedroom_rate 207\n"
     ]
    }
   ],
   "source": [
    "columns = df_housing.columns\n",
    "for column in columns:\n",
    "    null_count = df_housing.filter(\n",
    "        F.col(column).isNull() | F.isnan(F.col(column))\n",
    "    ).count()\n",
    "    print(column, null_count)"
   ]
  },
  {
   "cell_type": "markdown",
   "id": "983542a3-5a87-4f69-ad55-60ef9ba961c0",
   "metadata": {},
   "source": [
    "Пропуски в колонке `total_bedrooms` можно заполнить исходя и отношения количествв спален к общему количества комнат. Посмотрим на корреляцию этих признаков."
   ]
  },
  {
   "cell_type": "code",
   "execution_count": 13,
   "id": "3988aab1-335f-4f37-8243-95409199b3bb",
   "metadata": {},
   "outputs": [],
   "source": [
    "rooms = df_housing.select(\n",
    "    ['total_rooms', 'total_bedrooms']\n",
    ").toPandas()"
   ]
  },
  {
   "cell_type": "code",
   "execution_count": 14,
   "id": "38b716db-a5ac-4672-9f54-4ac8f829d8e7",
   "metadata": {},
   "outputs": [
    {
     "data": {
      "text/html": [
       "<div>\n",
       "<style scoped>\n",
       "    .dataframe tbody tr th:only-of-type {\n",
       "        vertical-align: middle;\n",
       "    }\n",
       "\n",
       "    .dataframe tbody tr th {\n",
       "        vertical-align: top;\n",
       "    }\n",
       "\n",
       "    .dataframe thead th {\n",
       "        text-align: right;\n",
       "    }\n",
       "</style>\n",
       "<table border=\"1\" class=\"dataframe\">\n",
       "  <thead>\n",
       "    <tr style=\"text-align: right;\">\n",
       "      <th></th>\n",
       "      <th>total_rooms</th>\n",
       "      <th>total_bedrooms</th>\n",
       "    </tr>\n",
       "  </thead>\n",
       "  <tbody>\n",
       "    <tr>\n",
       "      <th>total_rooms</th>\n",
       "      <td>1.00000</td>\n",
       "      <td>0.93038</td>\n",
       "    </tr>\n",
       "    <tr>\n",
       "      <th>total_bedrooms</th>\n",
       "      <td>0.93038</td>\n",
       "      <td>1.00000</td>\n",
       "    </tr>\n",
       "  </tbody>\n",
       "</table>\n",
       "</div>"
      ],
      "text/plain": [
       "                total_rooms  total_bedrooms\n",
       "total_rooms         1.00000         0.93038\n",
       "total_bedrooms      0.93038         1.00000"
      ]
     },
     "execution_count": 14,
     "metadata": {},
     "output_type": "execute_result"
    }
   ],
   "source": [
    "rooms.corr()"
   ]
  },
  {
   "cell_type": "markdown",
   "id": "076deab6-68b8-437f-ac62-1817bc8cae79",
   "metadata": {},
   "source": [
    "Коэффициент корреляции `0,93`. Пропуски в колонке `total_bedrooms` целесообразно заполнить произведением значения в колонке `total_rooms` и среднего значения `bedroom_rate`."
   ]
  },
  {
   "cell_type": "code",
   "execution_count": 15,
   "id": "9636c646-ffb3-4d64-96bf-67ce661f3724",
   "metadata": {},
   "outputs": [],
   "source": [
    "# рассчитываем среднее значение bedroom_rate\n",
    "average_bedroom_rate = df_housing.select(\n",
    "    F.avg(F.col('bedroom_rate'))\n",
    ").first()['avg(bedroom_rate)']"
   ]
  },
  {
   "cell_type": "code",
   "execution_count": 16,
   "id": "ef43c471-caf3-4028-8af9-31ebb62ae927",
   "metadata": {},
   "outputs": [],
   "source": [
    "# заполняем пропуски в total_bedrooms\n",
    "df_housing = df_housing.withColumn(\n",
    "    'total_bedrooms',\n",
    "    F.when(\n",
    "        F.col('total_bedrooms').isNull(),\n",
    "        F.col('total_rooms') * average_bedroom_rate  # используем среднее значение\n",
    "    ).otherwise(F.col('total_bedrooms'))\n",
    ")"
   ]
  },
  {
   "cell_type": "markdown",
   "id": "6f19c858-240e-44ca-ba9e-cace1f61cfaf",
   "metadata": {},
   "source": [
    "Пропуски в колонке `bedroom_rate` заполним средним."
   ]
  },
  {
   "cell_type": "code",
   "execution_count": 17,
   "id": "d0662c43-386a-4586-b520-3a53d8a16f60",
   "metadata": {},
   "outputs": [],
   "source": [
    "fill_values = {'bedroom_rate': average_bedroom_rate}\n",
    "df_housing = df_housing.fillna(fill_values)"
   ]
  },
  {
   "cell_type": "code",
   "execution_count": 18,
   "id": "5d49097b-4722-475c-88de-1b8163048d82",
   "metadata": {},
   "outputs": [
    {
     "name": "stdout",
     "output_type": "stream",
     "text": [
      "longitude 0\n",
      "latitude 0\n",
      "housing_median_age 0\n",
      "total_rooms 0\n",
      "total_bedrooms 0\n",
      "population 0\n",
      "households 0\n",
      "median_income 0\n",
      "median_house_value 0\n",
      "ocean_proximity 0\n",
      "rooms_per_household 0\n",
      "population_in_household 0\n",
      "bedroom_rate 0\n"
     ]
    }
   ],
   "source": [
    "# проверяем результат заполнения пропусков\n",
    "columns = df_housing.columns\n",
    "for column in columns:\n",
    "    null_count = df_housing.filter(\n",
    "        F.col(column).isNull() | F.isnan(F.col(column))\n",
    "    ).count()\n",
    "    print(column, null_count)"
   ]
  },
  {
   "cell_type": "markdown",
   "id": "21570b5d-650e-4860-bb8c-0629ff54463e",
   "metadata": {},
   "source": [
    "### Промежуточные выводы по предобработке данных\n",
    "\n",
    "- Пропуски в колонке `total_bedrooms` заполнены исходя из отношения числа спален к общему числу комнат.\n",
    "- Пропуски в колонке `bedroom_rate` заполнены средним."
   ]
  },
  {
   "cell_type": "markdown",
   "id": "a4b9b393-8a5d-4cf1-abdb-9bb63c484151",
   "metadata": {},
   "source": [
    "## Исследовательский анализ данных\n",
    "\n",
    "В рамках исследовательского анализа посмотрим на корреляцию признаков."
   ]
  },
  {
   "cell_type": "code",
   "execution_count": 19,
   "id": "243a7a04-9493-4e6e-9ad5-1c8249c0ab3b",
   "metadata": {},
   "outputs": [],
   "source": [
    "# определяем список признаков для корреляционного анализа\n",
    "corr_features = [\n",
    "    'longitude',\n",
    "    'latitude',\n",
    "    'housing_median_age',\n",
    "    'total_rooms',\n",
    "    'total_bedrooms',\n",
    "    'population',\n",
    "    'households',\n",
    "    'median_income',\n",
    "    'median_house_value',\n",
    "    #'ocean_proximity', исключаем категориальный признак\n",
    "    'rooms_per_household',\n",
    "    'population_in_household',\n",
    "    'bedroom_rate'\n",
    "]"
   ]
  },
  {
   "cell_type": "markdown",
   "id": "d449f43b-02f5-4a32-8925-3bdc32dcdd33",
   "metadata": {},
   "source": [
    "Собираем признаки в один вектор с помощью `VectorAssembler`."
   ]
  },
  {
   "cell_type": "code",
   "execution_count": 20,
   "id": "94cc6078-fdeb-45fa-b72d-06f6326565ac",
   "metadata": {},
   "outputs": [],
   "source": [
    "corr_assembler = VectorAssembler(\n",
    "    inputCols=corr_features,\n",
    "    outputCol='corr_features'\n",
    ")"
   ]
  },
  {
   "cell_type": "code",
   "execution_count": 21,
   "id": "0082219f-1e4b-4750-be33-5144398f39b9",
   "metadata": {},
   "outputs": [],
   "source": [
    "corr_vector = corr_assembler.transform(df_housing).select('corr_features')"
   ]
  },
  {
   "cell_type": "code",
   "execution_count": 22,
   "id": "8b500273-2822-477c-91c6-a6e6fd8b8e3b",
   "metadata": {},
   "outputs": [
    {
     "name": "stderr",
     "output_type": "stream",
     "text": [
      "                                                                                \r"
     ]
    }
   ],
   "source": [
    "# вычисление матрицы корреляции\n",
    "correlation_matrix = Correlation.corr(corr_vector, 'corr_features').head()['pearson(corr_features)']"
   ]
  },
  {
   "cell_type": "markdown",
   "id": "d6697cd2-5a63-40d6-a88c-fb4df97e82ca",
   "metadata": {},
   "source": [
    "Определим функцию для вывода матрицы корреляции."
   ]
  },
  {
   "cell_type": "code",
   "execution_count": 23,
   "id": "2e323035-382c-4330-9669-dab96319d67b",
   "metadata": {},
   "outputs": [],
   "source": [
    "def plot_corr(data, title=''):\n",
    "    \n",
    "    # строим heatmap с помощью библиотеки seaborn\n",
    "    plt.figure(figsize=(7, 7))\n",
    "    ax = sns.heatmap(\n",
    "        data, \n",
    "        annot=True, \n",
    "        #mask=mask, \n",
    "        vmin=-1, \n",
    "        vmax=1, \n",
    "        cmap='viridis', \n",
    "        cbar=False, \n",
    "        square=True\n",
    "    )\n",
    "    ax.set_title(title)\n",
    "    plt.show()"
   ]
  },
  {
   "cell_type": "code",
   "execution_count": 24,
   "id": "e94c2d47-d440-4f56-bf46-6a27b9793007",
   "metadata": {},
   "outputs": [
    {
     "data": {
      "image/png": "[encoded data removed]",
      "text/plain": [
       "<Figure size 700x700 with 1 Axes>"
      ]
     },
     "metadata": {},
     "output_type": "display_data"
    }
   ],
   "source": [
    "# отрисовываем матрицу\n",
    "plot_corr(\n",
    "    data=pd.DataFrame(correlation_matrix.toArray(), columns=corr_features, index=corr_features), \n",
    "    title='Матрица корелляции'\n",
    ")"
   ]
  },
  {
   "cell_type": "markdown",
   "id": "d6ab144c-8d67-4498-a6b0-fc252ea3409f",
   "metadata": {},
   "source": [
    "### Промежуточные выводы по исследовательскому анализу данных\n",
    "\n",
    "- Наиболее сильную линейную взаимосвязь с таргетом имеет признак `median_income`.\n",
    "- Признаки `total_rooms`, `total_bedrooms`, `population` и `households` мультиколлинеарны.\n",
    "- Искусственный признак `bedroom_rate` имеет более сильную взаимосвязь с таргетом, чем признаки `total_rooms` и `total_bedrooms` по отдельности."
   ]
  },
  {
   "cell_type": "markdown",
   "id": "5cf81d5c-b6c8-4aeb-8ed4-b4fe94a6177e",
   "metadata": {},
   "source": [
    "## Подготовка данных"
   ]
  },
  {
   "cell_type": "markdown",
   "id": "2880b28a-0ad4-4c5f-94d4-1fe8231b2d00",
   "metadata": {},
   "source": [
    "Определяем списки признаков."
   ]
  },
  {
   "cell_type": "code",
   "execution_count": 25,
   "id": "0d96ba61-d64c-481b-935a-cd9fd9c5b265",
   "metadata": {},
   "outputs": [],
   "source": [
    "# числовые признаки\n",
    "num_features = [\n",
    "    'longitude',\n",
    "    'latitude',\n",
    "    'housing_median_age',\n",
    "    'total_rooms',\n",
    "    'total_bedrooms',\n",
    "    'population',\n",
    "    'households',\n",
    "    'median_income',\n",
    "    #'median_house_value', исключаем таргет\n",
    "    'rooms_per_household',\n",
    "    'population_in_household',\n",
    "    'bedroom_rate'\n",
    "]\n",
    "\n",
    "cat_features = [\n",
    "    'ocean_proximity'\n",
    "]\n",
    "\n",
    "output_idx_cat_features = [col +'_idx' for col in cat_features]\n",
    "output_ohe_cat_features = [col +'_ohe' for col in cat_features]\n",
    "\n",
    "all_features = [\n",
    "    'categorical_features_encoded',\n",
    "    'numerical_features_scaled'\n",
    "]"
   ]
  },
  {
   "cell_type": "markdown",
   "id": "0f242bcf-dff2-4e09-9086-f9d642a85eef",
   "metadata": {},
   "source": [
    "Кодируем категориальный признак."
   ]
  },
  {
   "cell_type": "code",
   "execution_count": 26,
   "id": "bc194cbf-2077-45cd-b870-eb8321c3c3f2",
   "metadata": {},
   "outputs": [],
   "source": [
    "# преобразование категориальной переменной в числовую\n",
    "# StringIndexer преобразует строковые значения в числовые индексы\n",
    "indexer = StringIndexer(\n",
    "    inputCols=cat_features,\n",
    "    outputCols=output_idx_cat_features\n",
    ")"
   ]
  },
  {
   "cell_type": "code",
   "execution_count": 27,
   "id": "5f1d196e-ce09-4eb8-8607-7c3d61654292",
   "metadata": {},
   "outputs": [],
   "source": [
    "# OneHotEncoder преобразует числовые индексы в one-hot представление\n",
    "encoder = OneHotEncoder(\n",
    "    inputCols=output_idx_cat_features,\n",
    "    outputCols=output_ohe_cat_features\n",
    ")"
   ]
  },
  {
   "cell_type": "code",
   "execution_count": 28,
   "id": "83b16bc8-7117-4dec-ac6e-d37151efd682",
   "metadata": {},
   "outputs": [],
   "source": [
    "categorical_assembler = VectorAssembler(\n",
    "    inputCols=[col+'_ohe' for col in cat_features],\n",
    "    outputCol='categorical_features_encoded'\n",
    ")"
   ]
  },
  {
   "cell_type": "markdown",
   "id": "85bd72d0-922f-431e-a7c0-9fea14c5a129",
   "metadata": {},
   "source": [
    "Масштабируем числовые признаки."
   ]
  },
  {
   "cell_type": "code",
   "execution_count": 29,
   "id": "91e6d74c-47c5-4428-824b-9a9854bd8f29",
   "metadata": {},
   "outputs": [],
   "source": [
    "numerical_assembler = VectorAssembler(\n",
    "    inputCols=num_features,\n",
    "    outputCol='num_features_vec'\n",
    ")"
   ]
  },
  {
   "cell_type": "code",
   "execution_count": 30,
   "id": "e29dcfd1-f7ba-4ee2-85c6-bfcb57254f96",
   "metadata": {},
   "outputs": [],
   "source": [
    "standard_scaler = StandardScaler(\n",
    "    inputCol='num_features_vec',\n",
    "    outputCol='numerical_features_scaled',\n",
    "    withMean=True\n",
    ")"
   ]
  },
  {
   "cell_type": "markdown",
   "id": "da782d5a-ce8d-436b-a3e5-383250beda19",
   "metadata": {},
   "source": [
    "Собираем все признаки в один вектор."
   ]
  },
  {
   "cell_type": "code",
   "execution_count": 31,
   "id": "55e948f4-c90c-4fa5-b60c-83af43d15be0",
   "metadata": {},
   "outputs": [],
   "source": [
    "final_assembler = VectorAssembler(\n",
    "    inputCols=all_features,\n",
    "    outputCol='features'\n",
    ")"
   ]
  },
  {
   "cell_type": "markdown",
   "id": "43b57848-72da-4fea-ae8f-0586b4e7f63b",
   "metadata": {},
   "source": [
    "Делим выборку на train и test."
   ]
  },
  {
   "cell_type": "code",
   "execution_count": 32,
   "id": "5a6d1c21-b891-4741-8bf2-54ac795b5b52",
   "metadata": {},
   "outputs": [],
   "source": [
    "train_data, test_data = df_housing.randomSplit([.75,.25], seed=RANDOM_SEED)"
   ]
  },
  {
   "cell_type": "markdown",
   "id": "fee4e5de-aa35-4d6d-9226-24b45638a7f4",
   "metadata": {},
   "source": [
    "Проверяем размеры выборок."
   ]
  },
  {
   "cell_type": "code",
   "execution_count": 33,
   "id": "13efe4ba-3800-49b4-827a-6b8a8f205fca",
   "metadata": {},
   "outputs": [
    {
     "name": "stdout",
     "output_type": "stream",
     "text": [
      "15500 5140\n"
     ]
    }
   ],
   "source": [
    "print(train_data.count(), test_data.count()) "
   ]
  },
  {
   "cell_type": "markdown",
   "id": "f043a9fa-4727-40d3-aba0-7ade58100dd2",
   "metadata": {},
   "source": [
    "Данные готовы для обучения модели."
   ]
  },
  {
   "cell_type": "markdown",
   "id": "296ca3f8-433f-4daa-9f67-7987421f3c36",
   "metadata": {},
   "source": [
    "## Обучение моделей"
   ]
  },
  {
   "cell_type": "markdown",
   "id": "11a7e9b9-69b9-4b3c-a3ec-dbb356b08e4c",
   "metadata": {},
   "source": [
    "### Обучение модели на всех данных"
   ]
  },
  {
   "cell_type": "code",
   "execution_count": 34,
   "id": "ac905582-678b-4a2b-b4a3-bd50b3cef16d",
   "metadata": {},
   "outputs": [],
   "source": [
    "# создание модели линейной регрессии\n",
    "lr_with_cat = LinearRegression(featuresCol='features', labelCol='median_house_value')"
   ]
  },
  {
   "cell_type": "code",
   "execution_count": 35,
   "id": "bef73581-a379-4602-a168-c4c63ed30847",
   "metadata": {},
   "outputs": [],
   "source": [
    "# создание Pipeline\n",
    "pipeline = Pipeline(\n",
    "    stages=[\n",
    "        indexer,\n",
    "        encoder,\n",
    "        categorical_assembler,\n",
    "        numerical_assembler,\n",
    "        standard_scaler,\n",
    "        final_assembler,\n",
    "        lr_with_cat\n",
    "    ]\n",
    ")"
   ]
  },
  {
   "cell_type": "code",
   "execution_count": 36,
   "id": "74276592-6d35-4099-85d5-05b44027ca9e",
   "metadata": {},
   "outputs": [],
   "source": [
    "# обучение модели\n",
    "model_with_cat = pipeline.fit(train_data)"
   ]
  },
  {
   "cell_type": "markdown",
   "id": "b213d57c-b23b-49f0-b20a-85dafbe9fcfd",
   "metadata": {},
   "source": [
    "### Обучение модели на данных без категориального признака"
   ]
  },
  {
   "cell_type": "code",
   "execution_count": 37,
   "id": "42973ace-8759-4a4a-9987-d4199e952b58",
   "metadata": {},
   "outputs": [],
   "source": [
    "all_features = [\n",
    "    #'categorical_features_encoded', исключаем кат. признак\n",
    "    'numerical_features_scaled'\n",
    "]"
   ]
  },
  {
   "cell_type": "code",
   "execution_count": 38,
   "id": "60daa229-8c79-44d6-83d0-b9cead98b0e5",
   "metadata": {},
   "outputs": [],
   "source": [
    "final_assembler = VectorAssembler(\n",
    "    inputCols=all_features,\n",
    "    outputCol='features'\n",
    ")"
   ]
  },
  {
   "cell_type": "code",
   "execution_count": 39,
   "id": "5109af6b-b2ac-4fbe-a046-9b5f354e2fdc",
   "metadata": {},
   "outputs": [],
   "source": [
    "lr_without_cat = LinearRegression(featuresCol='features', labelCol='median_house_value')"
   ]
  },
  {
   "cell_type": "code",
   "execution_count": 40,
   "id": "f6f84681-fa95-4bf6-a439-24cea2577edb",
   "metadata": {},
   "outputs": [],
   "source": [
    "# создание Pipeline\n",
    "pipeline = Pipeline(\n",
    "    stages=[\n",
    "        #indexer, исключаем обработку кат. признака\n",
    "        #encoder, исключаем обработку кат. признака\n",
    "        #categorical_assembler, исключаем обработку кат. признака\n",
    "        numerical_assembler,\n",
    "        standard_scaler,\n",
    "        final_assembler,\n",
    "        lr_without_cat\n",
    "    ]\n",
    ")"
   ]
  },
  {
   "cell_type": "code",
   "execution_count": 41,
   "id": "b4f1d748-a55b-4a84-bc65-283e80278f48",
   "metadata": {},
   "outputs": [],
   "source": [
    "# обучение модели\n",
    "model_without_cat = pipeline.fit(train_data)"
   ]
  },
  {
   "cell_type": "markdown",
   "id": "80b04bef-eacf-428f-b751-989384e1935b",
   "metadata": {},
   "source": [
    "### Обучение модели RandomForestRegressor"
   ]
  },
  {
   "cell_type": "markdown",
   "id": "51805854-ff27-4899-bd77-1cfc59d95138",
   "metadata": {},
   "source": [
    "Собираем данные в один вектор."
   ]
  },
  {
   "cell_type": "code",
   "execution_count": 42,
   "id": "a2b99fef-a292-4db1-8f94-2d2f9e15dce0",
   "metadata": {},
   "outputs": [],
   "source": [
    "all_features = [\n",
    "    'categorical_features_encoded',\n",
    "    'numerical_features_scaled'\n",
    "]"
   ]
  },
  {
   "cell_type": "code",
   "execution_count": 43,
   "id": "32a551e3-7acc-4033-b2a1-3c45bb225a90",
   "metadata": {},
   "outputs": [],
   "source": [
    "final_assembler = VectorAssembler(\n",
    "    inputCols=all_features,\n",
    "    outputCol='features'\n",
    ")"
   ]
  },
  {
   "cell_type": "markdown",
   "id": "73ae7d53-d740-44a2-a755-a8ebc628ecc6",
   "metadata": {},
   "source": [
    "Инициализируем модель `RandomForestRegressor`."
   ]
  },
  {
   "cell_type": "code",
   "execution_count": 44,
   "id": "01a2ee53-416f-44eb-ad51-e9bdfd0f7705",
   "metadata": {},
   "outputs": [],
   "source": [
    "rf = RandomForestRegressor(featuresCol='features', labelCol='median_house_value')"
   ]
  },
  {
   "cell_type": "code",
   "execution_count": 45,
   "id": "5ad01329-36a2-40b0-b79f-7599fe358fac",
   "metadata": {},
   "outputs": [],
   "source": [
    "# создание Pipeline\n",
    "pipeline = Pipeline(\n",
    "    stages=[\n",
    "        indexer,\n",
    "        encoder,\n",
    "        categorical_assembler,\n",
    "        numerical_assembler,\n",
    "        standard_scaler,\n",
    "        final_assembler,\n",
    "        rf # в этот пайплайн передаем RandomForestRegressor\n",
    "    ]\n",
    ")"
   ]
  },
  {
   "cell_type": "markdown",
   "id": "fded1817-1135-4575-a5e4-edb41493af12",
   "metadata": {},
   "source": [
    "Инициализируем `ParamGridBuilder` для создания сетки гиперпараметров."
   ]
  },
  {
   "cell_type": "code",
   "execution_count": 46,
   "id": "afd32092-c709-470b-bb65-57cc4f4667a4",
   "metadata": {},
   "outputs": [],
   "source": [
    "param_grid = ParamGridBuilder() \\\n",
    "    .addGrid(rf.numTrees, [int(x) for x in np.linspace(start = 10, stop = 30, num = 3)]) \\\n",
    "    .addGrid(rf.maxDepth, [int(x) for x in np.linspace(start = 5, stop = 15, num = 3)]) \\\n",
    "    .build()"
   ]
  },
  {
   "cell_type": "markdown",
   "id": "554094d2-9247-41d8-a21d-f31939d59306",
   "metadata": {},
   "source": [
    "Инициализируем `RegressionEvaluator`."
   ]
  },
  {
   "cell_type": "code",
   "execution_count": 47,
   "id": "4bbfa1e4-7b47-4b2c-87b0-e70cb8e7fc2b",
   "metadata": {},
   "outputs": [],
   "source": [
    "evaluator_cv = RegressionEvaluator(\n",
    "    labelCol='median_house_value',\n",
    "    predictionCol='prediction',\n",
    "    metricName='rmse'\n",
    ")"
   ]
  },
  {
   "cell_type": "markdown",
   "id": "46ce18f6-d9d2-402a-8952-3e53ef0230fb",
   "metadata": {},
   "source": [
    "Инициализируем инструмент для перебора гиперпараметров на кросс-валидации."
   ]
  },
  {
   "cell_type": "code",
   "execution_count": 48,
   "id": "71b90712-d9c8-48a0-a092-8cb2517f2049",
   "metadata": {},
   "outputs": [],
   "source": [
    "cross_val = CrossValidator(\n",
    "    estimator=pipeline,\n",
    "    estimatorParamMaps=param_grid,\n",
    "    evaluator=evaluator_cv,\n",
    "    numFolds=3\n",
    ")"
   ]
  },
  {
   "cell_type": "markdown",
   "id": "74736c7f-c26b-4eee-beba-d475745b8f7f",
   "metadata": {},
   "source": [
    "Обучаем модель."
   ]
  },
  {
   "cell_type": "code",
   "execution_count": 49,
   "id": "025f7fd4-5676-4029-81bc-c62ab539a3e8",
   "metadata": {},
   "outputs": [
    {
     "name": "stderr",
     "output_type": "stream",
     "text": [
      "                                                                                \r"
     ]
    }
   ],
   "source": [
    "cv_model = cross_val.fit(train_data)"
   ]
  },
  {
   "cell_type": "markdown",
   "id": "b9cd8532-b4a5-47d9-b2db-12c6a7662668",
   "metadata": {},
   "source": [
    "# Анализ результатов"
   ]
  },
  {
   "cell_type": "markdown",
   "id": "e5ce1c01-11e1-47be-b4a4-823f7e9a4b9a",
   "metadata": {},
   "source": [
    "Определим функцию для вывода метрик __RMSE__, __MAE__ и __R2__."
   ]
  },
  {
   "cell_type": "code",
   "execution_count": 50,
   "id": "0bcba4bc-5dd6-4935-8531-9cded6a78552",
   "metadata": {},
   "outputs": [],
   "source": [
    "def get_evaluation(model, test_data, metric_name):\n",
    "    predictions = model.transform(test_data)\n",
    "    evaluator = RegressionEvaluator(\n",
    "        labelCol='median_house_value',\n",
    "        predictionCol='prediction',\n",
    "        metricName=metric_name\n",
    "    )\n",
    "    return evaluator.evaluate(predictions)"
   ]
  },
  {
   "cell_type": "markdown",
   "id": "bee40b86-ea9a-4553-ac45-38b6d417ff18",
   "metadata": {},
   "source": [
    "Определяем список метрик."
   ]
  },
  {
   "cell_type": "code",
   "execution_count": 51,
   "id": "d65ad95e-ee1b-473b-9428-5cc93c67f367",
   "metadata": {},
   "outputs": [],
   "source": [
    "metrics = ['rmse', 'mae', 'r2']"
   ]
  },
  {
   "cell_type": "markdown",
   "id": "db443d31-1199-41cf-b660-9e645798e3f7",
   "metadata": {},
   "source": [
    "Оцениваем качество модели, обученной на всех признаках."
   ]
  },
  {
   "cell_type": "code",
   "execution_count": 52,
   "id": "a3c560f0-7def-44ac-94fa-e476133aeb2b",
   "metadata": {},
   "outputs": [
    {
     "name": "stdout",
     "output_type": "stream",
     "text": [
      "RMSE: 69508.5717203063\n",
      "MAE: 49590.63398938042\n",
      "R2: 0.6440338467872601\n"
     ]
    }
   ],
   "source": [
    "for metric_name in metrics:\n",
    "    print(f'{metric_name.upper()}: {get_evaluation(model_with_cat, test_data, metric_name)}')"
   ]
  },
  {
   "cell_type": "markdown",
   "id": "5678e66e-bf27-4fe3-ae9c-37ccc26d6373",
   "metadata": {},
   "source": [
    "Оцениваем качество модели, обученной только на числовых признаках."
   ]
  },
  {
   "cell_type": "code",
   "execution_count": 53,
   "id": "fd0352b0-a719-452c-ae5d-5fcdd715c400",
   "metadata": {},
   "outputs": [
    {
     "name": "stdout",
     "output_type": "stream",
     "text": [
      "RMSE: 70346.88029163038\n",
      "MAE: 50308.60097362224\n",
      "R2: 0.6353958053311011\n"
     ]
    }
   ],
   "source": [
    "for metric_name in metrics:\n",
    "    print(f'{metric_name.upper()}: {get_evaluation(model_without_cat, test_data, metric_name)}')"
   ]
  },
  {
   "cell_type": "markdown",
   "id": "d9de4da1-5b17-4ff3-a8d8-6e41edc1d68b",
   "metadata": {},
   "source": [
    "Оцениваем качество модели `RandomForestRegressor`, обученной на всех признаках."
   ]
  },
  {
   "cell_type": "code",
   "execution_count": 54,
   "id": "ec7d7d09-fa0f-4ff5-9b23-a58f5e09b7ed",
   "metadata": {},
   "outputs": [
    {
     "name": "stdout",
     "output_type": "stream",
     "text": [
      "RMSE: 50242.78045654983\n",
      "MAE: 34122.48261012284\n",
      "R2: 0.8140144056157204\n"
     ]
    }
   ],
   "source": [
    "for metric_name in metrics:\n",
    "    print(f'{metric_name.upper()}: {get_evaluation(cv_model, test_data, metric_name)}')"
   ]
  },
  {
   "cell_type": "code",
   "execution_count": 55,
   "id": "c302cae0-7258-4d5f-a528-356c669366d5",
   "metadata": {},
   "outputs": [],
   "source": [
    "# получаем лучшую модель\n",
    "best_model = cv_model.bestModel.stages[-1]"
   ]
  },
  {
   "cell_type": "code",
   "execution_count": 56,
   "id": "b7527ffa-9560-4ac6-b49d-ef440f4c1c19",
   "metadata": {},
   "outputs": [
    {
     "data": {
      "text/plain": [
       "RandomForestRegressionModel: uid=RandomForestRegressor_49a8b0ae8227, numTrees=30, numFeatures=15"
      ]
     },
     "execution_count": 56,
     "metadata": {},
     "output_type": "execute_result"
    }
   ],
   "source": [
    "best_model"
   ]
  },
  {
   "cell_type": "code",
   "execution_count": 57,
   "id": "ae529294-560b-4eee-b945-578c40d0678e",
   "metadata": {},
   "outputs": [],
   "source": [
    "# получаем массив со сначениями важности признаков\n",
    "importances = best_model.featureImportances"
   ]
  },
  {
   "cell_type": "code",
   "execution_count": 58,
   "id": "10680a5b-163b-48c1-9243-fb7bcb432d42",
   "metadata": {},
   "outputs": [],
   "source": [
    "# получение количества уникальных значений в категориальном признаке\n",
    "unique_category_count = df_housing.select('ocean_proximity').distinct().count()"
   ]
  },
  {
   "cell_type": "code",
   "execution_count": 59,
   "id": "cee380a7-1074-4af9-9b30-973694b91f10",
   "metadata": {},
   "outputs": [],
   "source": [
    "# формируем список всех признаков после кодирования\n",
    "# количество закодированных категорий = количество уникальных категорий минус 1 (dropLast)\n",
    "feature_names = [f'ocean_proximity_{i}' for i in range(unique_category_count) if i != 0]"
   ]
  },
  {
   "cell_type": "code",
   "execution_count": 60,
   "id": "9f79d394-d7d3-401b-968d-f7fb92aea5a3",
   "metadata": {},
   "outputs": [],
   "source": [
    "# добавляем остальные признаки (в данном случае числовые признаки)\n",
    "feature_names = feature_names + num_features"
   ]
  },
  {
   "cell_type": "code",
   "execution_count": 61,
   "id": "36cf5342-9fbc-4acb-805d-fbcfa50424fa",
   "metadata": {},
   "outputs": [],
   "source": [
    "# инициализируем датасет pandas\n",
    "importances_df = pd.DataFrame(\n",
    "    data=importances.values,\n",
    "    index=feature_names,\n",
    "    columns=['Importance']\n",
    ")"
   ]
  },
  {
   "cell_type": "code",
   "execution_count": 62,
   "id": "6a2c77bf-ec74-4467-82a9-4fc94abf88b3",
   "metadata": {},
   "outputs": [],
   "source": [
    "# сортируем значения по убыванию\n",
    "importances_df = importances_df.sort_values(by='Importance', ascending=False)"
   ]
  },
  {
   "cell_type": "code",
   "execution_count": 63,
   "id": "815928e2-0d7d-44ef-a638-be59856eff34",
   "metadata": {},
   "outputs": [
    {
     "data": {
      "image/png": "[encoded data removed]",
      "text/plain": [
       "<Figure size 640x480 with 1 Axes>"
      ]
     },
     "metadata": {},
     "output_type": "display_data"
    }
   ],
   "source": [
    "# отрисовываем важность признаков на диаграмме\n",
    "ax = sns.barplot(\n",
    "    data=importances_df,\n",
    "    y=importances_df.index,\n",
    "    x='Importance',\n",
    "    orient='h'\n",
    ")\n",
    "ax.set_ylabel('Признаки')\n",
    "sns.despine()\n",
    "plt.show()"
   ]
  },
  {
   "cell_type": "markdown",
   "id": "411721c1-db82-46ad-a100-b05174d2a9bf",
   "metadata": {},
   "source": [
    "# Выводы по результатам работы"
   ]
  },
  {
   "cell_type": "markdown",
   "id": "15a83f46-a95b-4e0e-b886-e866506fa083",
   "metadata": {},
   "source": [
    "__Цель проекта__ - обучить 2 модели линейной регрессии на данных о жилье в Калифорнии в 1990 году для предсказания медианной стоимости дома в жилом массиве.\n",
    "\n",
    "__Основные выполненные этапы__:\n",
    "- загрузка данных и ознакомление\n",
    "- заполненние пропусков\n",
    "- конструирование новых признаков\n",
    "- корреляционный анализ\n",
    "- подготовка данных\n",
    "- обучение моделей\n",
    "- оценка качества\n",
    "\n",
    "__Полученные результаты__:\n",
    "\n",
    "1. При использовании всех признаков:\n",
    "\n",
    "- Метрика RMSE на тестовой выборке: **69508.5717198917**\n",
    "- Метрика MAE на валидационной выборке: **49590.63398859056**\n",
    "- Метрика R2 на валидационной выборке: **0.6440338467915065**\n",
    "\n",
    "2. При исключении категориального признака:\n",
    "\n",
    "- Метрика RMSE на тестовой выборке: **70346.88029140561**\n",
    "- Метрика MAE на валидационной выборке: **50308.60097259645**\n",
    "- Метрика R2 на валидационной выборке: **0.6353958053334309**\n",
    "\n",
    "3. При использовании модели `RandomForestRegressor` с перебором гиперпараметров по сетке:\n",
    "\n",
    "- Метрика RMSE на тестовой выборке: **50234.041477042665**\n",
    "- Метрика MAE на валидационной выборке: **34168.62614520738**\n",
    "- Метрика R2 на валидационной выборке: **0.814079098808763**\n",
    "\n",
    "При использовании категориального признака модель показала более высокие метрики, чем та модель, которая обучалась только на числовых признаках. Самые лучшие знаения метрик на тесте показала модель `RandomForestRegressor` с гиперпараметрами `numTrees=30`, `numFeatures=15`.\n"
   ]
  }
 ],
 "metadata": {
  "kernelspec": {
   "display_name": "Python 3 (ipykernel)",
   "language": "python",
   "name": "python3"
  },
  "language_info": {
   "codemirror_mode": {
    "name": "ipython",
    "version": 3
   },
   "file_extension": ".py",
   "mimetype": "text/x-python",
   "name": "python",
   "nbconvert_exporter": "python",
   "pygments_lexer": "ipython3",
   "version": "3.9.19"
  },
  "toc": {
   "base_numbering": 1,
   "nav_menu": {},
   "number_sections": true,
   "sideBar": true,
   "skip_h1_title": true,
   "title_cell": "Table of Contents",
   "title_sidebar": "Contents",
   "toc_cell": false,
   "toc_position": {},
   "toc_section_display": true,
   "toc_window_display": false
  }
 },
 "nbformat": 4,
 "nbformat_minor": 5
}
